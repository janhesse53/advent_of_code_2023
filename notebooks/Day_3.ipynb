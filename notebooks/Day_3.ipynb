{
 "cells": [
  {
   "cell_type": "markdown",
   "source": [
    "# --- Day 3: Gear Ratios ---\n",
    "You and the Elf eventually reach a gondola lift station; he says the gondola lift will take you up to the water source, but this is as far as he can bring you. You go inside.\n",
    "\n",
    "It doesn't take long to find the gondolas, but there seems to be a problem: they're not moving.\n",
    "\n",
    "\"Aaah!\"\n",
    "\n",
    "You turn around to see a slightly-greasy Elf with a wrench and a look of surprise. \"Sorry, I wasn't expecting anyone! The gondola lift isn't working right now; it'll still be a while before I can fix it.\" You offer to help.\n",
    "\n",
    "The engineer explains that an engine part seems to be missing from the engine, but nobody can figure out which one. If you can add up all the part numbers in the engine schematic, it should be easy to work out which part is missing.\n",
    "\n",
    "The engine schematic (your puzzle input) consists of a visual representation of the engine. There are lots of numbers and symbols you don't really understand, but apparently any number adjacent to a symbol, even diagonally, is a \"part number\" and should be included in your sum. (Periods (.) do not count as a symbol.)\n",
    "\n",
    "Here is an example engine schematic:\n",
    "\n",
    "467..114..\n",
    "...*......\n",
    "..35..633.\n",
    "......#...\n",
    "617*......\n",
    ".....+.58.\n",
    "..592.....\n",
    "......755.\n",
    "...$.*....\n",
    ".664.598..\n",
    "In this schematic, two numbers are not part numbers because they are not adjacent to a symbol: 114 (top right) and 58 (middle right). Every other number is adjacent to a symbol and so is a part number; their sum is 4361.\n",
    "\n",
    "Of course, the actual engine schematic is much larger. What is the sum of all of the part numbers in the engine schematic?"
   ],
   "metadata": {
    "collapsed": false,
    "pycharm": {
     "name": "#%% md\n"
    }
   }
  },
  {
   "cell_type": "code",
   "execution_count": 1,
   "outputs": [],
   "source": [
    "import pandas as pd\n",
    "from aocd import get_data, submit"
   ],
   "metadata": {
    "collapsed": false,
    "pycharm": {
     "name": "#%%\n"
    }
   }
  },
  {
   "cell_type": "code",
   "execution_count": 3,
   "outputs": [],
   "source": [
    "input_string = get_data(day=3, year=2023)"
   ],
   "metadata": {
    "collapsed": false,
    "pycharm": {
     "name": "#%%\n"
    }
   }
  },
  {
   "cell_type": "code",
   "execution_count": 15,
   "outputs": [],
   "source": [
    "list_of_strings = input_string.split('\\n')"
   ],
   "metadata": {
    "collapsed": false,
    "pycharm": {
     "name": "#%%\n"
    }
   }
  },
  {
   "cell_type": "code",
   "execution_count": 37,
   "outputs": [
    {
     "data": {
      "text/plain": "140"
     },
     "execution_count": 37,
     "metadata": {},
     "output_type": "execute_result"
    }
   ],
   "source": [
    "len(list_of_strings)"
   ],
   "metadata": {
    "collapsed": false,
    "pycharm": {
     "name": "#%%\n"
    }
   }
  },
  {
   "cell_type": "code",
   "execution_count": 44,
   "outputs": [],
   "source": [
    "import re\n",
    "# Define a regular expression pattern to match numbers\n",
    "pattern = re.compile(r'\\d+')\n",
    "match_positions = []\n",
    "\n",
    "# Iterate through each string in the list\n",
    "for idx, string in enumerate(list_of_strings):\n",
    "    # Find all matches of the pattern in the current string\n",
    "    matches = pattern.finditer(string)\n",
    "\n",
    "    # Print the positions of numbers in the current string\n",
    "    for match in matches:\n",
    "        match_position = [(idx, match.start()-1+x) for x in range(len(match.group())+2)]\n",
    "        above_match = [(idx-1, match.start()-1+x) for x in range(len(match.group())+2)]\n",
    "        below_match = [(idx+1, match.start()-1+x) for x in range(len(match.group())+2)]\n",
    "        match_position = [match.group()] + match_position + above_match + below_match\n",
    "        match_positions.append(match_position)"
   ],
   "metadata": {
    "collapsed": false,
    "pycharm": {
     "name": "#%%\n"
    }
   }
  },
  {
   "cell_type": "code",
   "execution_count": 46,
   "outputs": [],
   "source": [
    "df = pd.DataFrame(data=match_positions)"
   ],
   "metadata": {
    "collapsed": false,
    "pycharm": {
     "name": "#%%\n"
    }
   }
  },
  {
   "cell_type": "code",
   "execution_count": 47,
   "outputs": [
    {
     "data": {
      "text/plain": "       0           1           2           3           4           5   \\\n0     679      (0, 0)      (0, 1)      (0, 2)      (0, 3)      (0, 4)   \n1     662      (0, 8)      (0, 9)     (0, 10)     (0, 11)     (0, 12)   \n2      71     (0, 15)     (0, 16)     (0, 17)     (0, 18)    (-1, 15)   \n3     805     (0, 45)     (0, 46)     (0, 47)     (0, 48)     (0, 49)   \n4     862     (0, 58)     (0, 59)     (0, 60)     (0, 61)     (0, 62)   \n...   ...         ...         ...         ...         ...         ...   \n1203  372   (139, 44)   (139, 45)   (139, 46)   (139, 47)   (139, 48)   \n1204  474   (139, 81)   (139, 82)   (139, 83)   (139, 84)   (139, 85)   \n1205  432  (139, 119)  (139, 120)  (139, 121)  (139, 122)  (139, 123)   \n1206  471  (139, 123)  (139, 124)  (139, 125)  (139, 126)  (139, 127)   \n1207  729  (139, 132)  (139, 133)  (139, 134)  (139, 135)  (139, 136)   \n\n              6           7           8           9           10          11  \\\n0        (-1, 0)     (-1, 1)     (-1, 2)     (-1, 3)     (-1, 4)      (1, 0)   \n1        (-1, 8)     (-1, 9)    (-1, 10)    (-1, 11)    (-1, 12)      (1, 8)   \n2       (-1, 16)    (-1, 17)    (-1, 18)     (1, 15)     (1, 16)     (1, 17)   \n3       (-1, 45)    (-1, 46)    (-1, 47)    (-1, 48)    (-1, 49)     (1, 45)   \n4       (-1, 58)    (-1, 59)    (-1, 60)    (-1, 61)    (-1, 62)     (1, 58)   \n...          ...         ...         ...         ...         ...         ...   \n1203   (138, 44)   (138, 45)   (138, 46)   (138, 47)   (138, 48)   (140, 44)   \n1204   (138, 81)   (138, 82)   (138, 83)   (138, 84)   (138, 85)   (140, 81)   \n1205  (138, 119)  (138, 120)  (138, 121)  (138, 122)  (138, 123)  (140, 119)   \n1206  (138, 123)  (138, 124)  (138, 125)  (138, 126)  (138, 127)  (140, 123)   \n1207  (138, 132)  (138, 133)  (138, 134)  (138, 135)  (138, 136)  (140, 132)   \n\n              12          13          14          15  \n0         (1, 1)      (1, 2)      (1, 3)      (1, 4)  \n1         (1, 9)     (1, 10)     (1, 11)     (1, 12)  \n2        (1, 18)        None        None        None  \n3        (1, 46)     (1, 47)     (1, 48)     (1, 49)  \n4        (1, 59)     (1, 60)     (1, 61)     (1, 62)  \n...          ...         ...         ...         ...  \n1203   (140, 45)   (140, 46)   (140, 47)   (140, 48)  \n1204   (140, 82)   (140, 83)   (140, 84)   (140, 85)  \n1205  (140, 120)  (140, 121)  (140, 122)  (140, 123)  \n1206  (140, 124)  (140, 125)  (140, 126)  (140, 127)  \n1207  (140, 133)  (140, 134)  (140, 135)  (140, 136)  \n\n[1208 rows x 16 columns]",
      "text/html": "<div>\n<style scoped>\n    .dataframe tbody tr th:only-of-type {\n        vertical-align: middle;\n    }\n\n    .dataframe tbody tr th {\n        vertical-align: top;\n    }\n\n    .dataframe thead th {\n        text-align: right;\n    }\n</style>\n<table border=\"1\" class=\"dataframe\">\n  <thead>\n    <tr style=\"text-align: right;\">\n      <th></th>\n      <th>0</th>\n      <th>1</th>\n      <th>2</th>\n      <th>3</th>\n      <th>4</th>\n      <th>5</th>\n      <th>6</th>\n      <th>7</th>\n      <th>8</th>\n      <th>9</th>\n      <th>10</th>\n      <th>11</th>\n      <th>12</th>\n      <th>13</th>\n      <th>14</th>\n      <th>15</th>\n    </tr>\n  </thead>\n  <tbody>\n    <tr>\n      <th>0</th>\n      <td>679</td>\n      <td>(0, 0)</td>\n      <td>(0, 1)</td>\n      <td>(0, 2)</td>\n      <td>(0, 3)</td>\n      <td>(0, 4)</td>\n      <td>(-1, 0)</td>\n      <td>(-1, 1)</td>\n      <td>(-1, 2)</td>\n      <td>(-1, 3)</td>\n      <td>(-1, 4)</td>\n      <td>(1, 0)</td>\n      <td>(1, 1)</td>\n      <td>(1, 2)</td>\n      <td>(1, 3)</td>\n      <td>(1, 4)</td>\n    </tr>\n    <tr>\n      <th>1</th>\n      <td>662</td>\n      <td>(0, 8)</td>\n      <td>(0, 9)</td>\n      <td>(0, 10)</td>\n      <td>(0, 11)</td>\n      <td>(0, 12)</td>\n      <td>(-1, 8)</td>\n      <td>(-1, 9)</td>\n      <td>(-1, 10)</td>\n      <td>(-1, 11)</td>\n      <td>(-1, 12)</td>\n      <td>(1, 8)</td>\n      <td>(1, 9)</td>\n      <td>(1, 10)</td>\n      <td>(1, 11)</td>\n      <td>(1, 12)</td>\n    </tr>\n    <tr>\n      <th>2</th>\n      <td>71</td>\n      <td>(0, 15)</td>\n      <td>(0, 16)</td>\n      <td>(0, 17)</td>\n      <td>(0, 18)</td>\n      <td>(-1, 15)</td>\n      <td>(-1, 16)</td>\n      <td>(-1, 17)</td>\n      <td>(-1, 18)</td>\n      <td>(1, 15)</td>\n      <td>(1, 16)</td>\n      <td>(1, 17)</td>\n      <td>(1, 18)</td>\n      <td>None</td>\n      <td>None</td>\n      <td>None</td>\n    </tr>\n    <tr>\n      <th>3</th>\n      <td>805</td>\n      <td>(0, 45)</td>\n      <td>(0, 46)</td>\n      <td>(0, 47)</td>\n      <td>(0, 48)</td>\n      <td>(0, 49)</td>\n      <td>(-1, 45)</td>\n      <td>(-1, 46)</td>\n      <td>(-1, 47)</td>\n      <td>(-1, 48)</td>\n      <td>(-1, 49)</td>\n      <td>(1, 45)</td>\n      <td>(1, 46)</td>\n      <td>(1, 47)</td>\n      <td>(1, 48)</td>\n      <td>(1, 49)</td>\n    </tr>\n    <tr>\n      <th>4</th>\n      <td>862</td>\n      <td>(0, 58)</td>\n      <td>(0, 59)</td>\n      <td>(0, 60)</td>\n      <td>(0, 61)</td>\n      <td>(0, 62)</td>\n      <td>(-1, 58)</td>\n      <td>(-1, 59)</td>\n      <td>(-1, 60)</td>\n      <td>(-1, 61)</td>\n      <td>(-1, 62)</td>\n      <td>(1, 58)</td>\n      <td>(1, 59)</td>\n      <td>(1, 60)</td>\n      <td>(1, 61)</td>\n      <td>(1, 62)</td>\n    </tr>\n    <tr>\n      <th>...</th>\n      <td>...</td>\n      <td>...</td>\n      <td>...</td>\n      <td>...</td>\n      <td>...</td>\n      <td>...</td>\n      <td>...</td>\n      <td>...</td>\n      <td>...</td>\n      <td>...</td>\n      <td>...</td>\n      <td>...</td>\n      <td>...</td>\n      <td>...</td>\n      <td>...</td>\n      <td>...</td>\n    </tr>\n    <tr>\n      <th>1203</th>\n      <td>372</td>\n      <td>(139, 44)</td>\n      <td>(139, 45)</td>\n      <td>(139, 46)</td>\n      <td>(139, 47)</td>\n      <td>(139, 48)</td>\n      <td>(138, 44)</td>\n      <td>(138, 45)</td>\n      <td>(138, 46)</td>\n      <td>(138, 47)</td>\n      <td>(138, 48)</td>\n      <td>(140, 44)</td>\n      <td>(140, 45)</td>\n      <td>(140, 46)</td>\n      <td>(140, 47)</td>\n      <td>(140, 48)</td>\n    </tr>\n    <tr>\n      <th>1204</th>\n      <td>474</td>\n      <td>(139, 81)</td>\n      <td>(139, 82)</td>\n      <td>(139, 83)</td>\n      <td>(139, 84)</td>\n      <td>(139, 85)</td>\n      <td>(138, 81)</td>\n      <td>(138, 82)</td>\n      <td>(138, 83)</td>\n      <td>(138, 84)</td>\n      <td>(138, 85)</td>\n      <td>(140, 81)</td>\n      <td>(140, 82)</td>\n      <td>(140, 83)</td>\n      <td>(140, 84)</td>\n      <td>(140, 85)</td>\n    </tr>\n    <tr>\n      <th>1205</th>\n      <td>432</td>\n      <td>(139, 119)</td>\n      <td>(139, 120)</td>\n      <td>(139, 121)</td>\n      <td>(139, 122)</td>\n      <td>(139, 123)</td>\n      <td>(138, 119)</td>\n      <td>(138, 120)</td>\n      <td>(138, 121)</td>\n      <td>(138, 122)</td>\n      <td>(138, 123)</td>\n      <td>(140, 119)</td>\n      <td>(140, 120)</td>\n      <td>(140, 121)</td>\n      <td>(140, 122)</td>\n      <td>(140, 123)</td>\n    </tr>\n    <tr>\n      <th>1206</th>\n      <td>471</td>\n      <td>(139, 123)</td>\n      <td>(139, 124)</td>\n      <td>(139, 125)</td>\n      <td>(139, 126)</td>\n      <td>(139, 127)</td>\n      <td>(138, 123)</td>\n      <td>(138, 124)</td>\n      <td>(138, 125)</td>\n      <td>(138, 126)</td>\n      <td>(138, 127)</td>\n      <td>(140, 123)</td>\n      <td>(140, 124)</td>\n      <td>(140, 125)</td>\n      <td>(140, 126)</td>\n      <td>(140, 127)</td>\n    </tr>\n    <tr>\n      <th>1207</th>\n      <td>729</td>\n      <td>(139, 132)</td>\n      <td>(139, 133)</td>\n      <td>(139, 134)</td>\n      <td>(139, 135)</td>\n      <td>(139, 136)</td>\n      <td>(138, 132)</td>\n      <td>(138, 133)</td>\n      <td>(138, 134)</td>\n      <td>(138, 135)</td>\n      <td>(138, 136)</td>\n      <td>(140, 132)</td>\n      <td>(140, 133)</td>\n      <td>(140, 134)</td>\n      <td>(140, 135)</td>\n      <td>(140, 136)</td>\n    </tr>\n  </tbody>\n</table>\n<p>1208 rows × 16 columns</p>\n</div>"
     },
     "execution_count": 47,
     "metadata": {},
     "output_type": "execute_result"
    }
   ],
   "source": [
    "df"
   ],
   "metadata": {
    "collapsed": false,
    "pycharm": {
     "name": "#%%\n"
    }
   }
  },
  {
   "cell_type": "code",
   "execution_count": 50,
   "outputs": [
    {
     "data": {
      "text/plain": "140"
     },
     "execution_count": 50,
     "metadata": {},
     "output_type": "execute_result"
    }
   ],
   "source": [
    "len(list_of_strings[0])"
   ],
   "metadata": {
    "collapsed": false,
    "pycharm": {
     "name": "#%%\n"
    }
   }
  },
  {
   "cell_type": "code",
   "execution_count": 55,
   "outputs": [],
   "source": [
    "data = []\n",
    "\n",
    "for string in list_of_strings:\n",
    "    data.append([*string])\n",
    "\n",
    "engine_schematic = pd.DataFrame(data)"
   ],
   "metadata": {
    "collapsed": false,
    "pycharm": {
     "name": "#%%\n"
    }
   }
  },
  {
   "cell_type": "code",
   "execution_count": 56,
   "outputs": [
    {
     "name": "stdout",
     "output_type": "stream",
     "text": [
      "<class 'pandas.core.frame.DataFrame'>\n",
      "RangeIndex: 140 entries, 0 to 139\n",
      "Columns: 140 entries, 0 to 139\n",
      "dtypes: object(140)\n",
      "memory usage: 153.2+ KB\n"
     ]
    }
   ],
   "source": [
    "engine_schematic.info()"
   ],
   "metadata": {
    "collapsed": false,
    "pycharm": {
     "name": "#%%\n"
    }
   }
  },
  {
   "cell_type": "code",
   "execution_count": 57,
   "outputs": [
    {
     "data": {
      "text/plain": "(140, 140)"
     },
     "execution_count": 57,
     "metadata": {},
     "output_type": "execute_result"
    }
   ],
   "source": [
    "engine_schematic.shape"
   ],
   "metadata": {
    "collapsed": false,
    "pycharm": {
     "name": "#%%\n"
    }
   }
  },
  {
   "cell_type": "code",
   "execution_count": 58,
   "outputs": [
    {
     "data": {
      "text/plain": "    0   1   2   3   4   5   6   7   8   9    ... 130 131 132 133 134 135 136  \\\n0     .   6   7   9   .   .   .   .   .   6  ...   .   .   .   6   8   7   .   \n1     .   .   .   .   .   .   .   .   .   .  ...   9   2   .   .   .   .   .   \n2     .   .   .   .   .   .   .   .   .   .  ...   .   *   .   .   .   .   .   \n3     .   .   .   .   .   .   .   .   .   .  ...   .   5   7   9   .   .   .   \n4     .   .   .   .   .   .   .   5   6   6  ...   .   .   .   .   .   .   .   \n..   ..  ..  ..  ..  ..  ..  ..  ..  ..  ..  ...  ..  ..  ..  ..  ..  ..  ..   \n135   .   .   6   4   9   .   .   .   .   .  ...   .   .   .   .   .   .   .   \n136   .   .   .   .   .   .   .   .   .   2  ...   .   .   .   4   4   3   .   \n137   .   .   .   .   .   .   .   .   .   .  ...   .   .   @   .   .   .   .   \n138   .   .   .   .   .   .   8   0   6   .  ...   .   .   .   .   .   .   .   \n139   .   .   .   .   .   .   .   .   .   .  ...   .   .   .   7   2   9   .   \n\n    137 138 139  \n0     .   .   .  \n1     .   .   .  \n2     .   .   .  \n3     .   .   .  \n4     .   .   .  \n..   ..  ..  ..  \n135   .   .   .  \n136   .   .   .  \n137   .   .   .  \n138   .   .   .  \n139   .   .   .  \n\n[140 rows x 140 columns]",
      "text/html": "<div>\n<style scoped>\n    .dataframe tbody tr th:only-of-type {\n        vertical-align: middle;\n    }\n\n    .dataframe tbody tr th {\n        vertical-align: top;\n    }\n\n    .dataframe thead th {\n        text-align: right;\n    }\n</style>\n<table border=\"1\" class=\"dataframe\">\n  <thead>\n    <tr style=\"text-align: right;\">\n      <th></th>\n      <th>0</th>\n      <th>1</th>\n      <th>2</th>\n      <th>3</th>\n      <th>4</th>\n      <th>5</th>\n      <th>6</th>\n      <th>7</th>\n      <th>8</th>\n      <th>9</th>\n      <th>...</th>\n      <th>130</th>\n      <th>131</th>\n      <th>132</th>\n      <th>133</th>\n      <th>134</th>\n      <th>135</th>\n      <th>136</th>\n      <th>137</th>\n      <th>138</th>\n      <th>139</th>\n    </tr>\n  </thead>\n  <tbody>\n    <tr>\n      <th>0</th>\n      <td>.</td>\n      <td>6</td>\n      <td>7</td>\n      <td>9</td>\n      <td>.</td>\n      <td>.</td>\n      <td>.</td>\n      <td>.</td>\n      <td>.</td>\n      <td>6</td>\n      <td>...</td>\n      <td>.</td>\n      <td>.</td>\n      <td>.</td>\n      <td>6</td>\n      <td>8</td>\n      <td>7</td>\n      <td>.</td>\n      <td>.</td>\n      <td>.</td>\n      <td>.</td>\n    </tr>\n    <tr>\n      <th>1</th>\n      <td>.</td>\n      <td>.</td>\n      <td>.</td>\n      <td>.</td>\n      <td>.</td>\n      <td>.</td>\n      <td>.</td>\n      <td>.</td>\n      <td>.</td>\n      <td>.</td>\n      <td>...</td>\n      <td>9</td>\n      <td>2</td>\n      <td>.</td>\n      <td>.</td>\n      <td>.</td>\n      <td>.</td>\n      <td>.</td>\n      <td>.</td>\n      <td>.</td>\n      <td>.</td>\n    </tr>\n    <tr>\n      <th>2</th>\n      <td>.</td>\n      <td>.</td>\n      <td>.</td>\n      <td>.</td>\n      <td>.</td>\n      <td>.</td>\n      <td>.</td>\n      <td>.</td>\n      <td>.</td>\n      <td>.</td>\n      <td>...</td>\n      <td>.</td>\n      <td>*</td>\n      <td>.</td>\n      <td>.</td>\n      <td>.</td>\n      <td>.</td>\n      <td>.</td>\n      <td>.</td>\n      <td>.</td>\n      <td>.</td>\n    </tr>\n    <tr>\n      <th>3</th>\n      <td>.</td>\n      <td>.</td>\n      <td>.</td>\n      <td>.</td>\n      <td>.</td>\n      <td>.</td>\n      <td>.</td>\n      <td>.</td>\n      <td>.</td>\n      <td>.</td>\n      <td>...</td>\n      <td>.</td>\n      <td>5</td>\n      <td>7</td>\n      <td>9</td>\n      <td>.</td>\n      <td>.</td>\n      <td>.</td>\n      <td>.</td>\n      <td>.</td>\n      <td>.</td>\n    </tr>\n    <tr>\n      <th>4</th>\n      <td>.</td>\n      <td>.</td>\n      <td>.</td>\n      <td>.</td>\n      <td>.</td>\n      <td>.</td>\n      <td>.</td>\n      <td>5</td>\n      <td>6</td>\n      <td>6</td>\n      <td>...</td>\n      <td>.</td>\n      <td>.</td>\n      <td>.</td>\n      <td>.</td>\n      <td>.</td>\n      <td>.</td>\n      <td>.</td>\n      <td>.</td>\n      <td>.</td>\n      <td>.</td>\n    </tr>\n    <tr>\n      <th>...</th>\n      <td>...</td>\n      <td>...</td>\n      <td>...</td>\n      <td>...</td>\n      <td>...</td>\n      <td>...</td>\n      <td>...</td>\n      <td>...</td>\n      <td>...</td>\n      <td>...</td>\n      <td>...</td>\n      <td>...</td>\n      <td>...</td>\n      <td>...</td>\n      <td>...</td>\n      <td>...</td>\n      <td>...</td>\n      <td>...</td>\n      <td>...</td>\n      <td>...</td>\n      <td>...</td>\n    </tr>\n    <tr>\n      <th>135</th>\n      <td>.</td>\n      <td>.</td>\n      <td>6</td>\n      <td>4</td>\n      <td>9</td>\n      <td>.</td>\n      <td>.</td>\n      <td>.</td>\n      <td>.</td>\n      <td>.</td>\n      <td>...</td>\n      <td>.</td>\n      <td>.</td>\n      <td>.</td>\n      <td>.</td>\n      <td>.</td>\n      <td>.</td>\n      <td>.</td>\n      <td>.</td>\n      <td>.</td>\n      <td>.</td>\n    </tr>\n    <tr>\n      <th>136</th>\n      <td>.</td>\n      <td>.</td>\n      <td>.</td>\n      <td>.</td>\n      <td>.</td>\n      <td>.</td>\n      <td>.</td>\n      <td>.</td>\n      <td>.</td>\n      <td>2</td>\n      <td>...</td>\n      <td>.</td>\n      <td>.</td>\n      <td>.</td>\n      <td>4</td>\n      <td>4</td>\n      <td>3</td>\n      <td>.</td>\n      <td>.</td>\n      <td>.</td>\n      <td>.</td>\n    </tr>\n    <tr>\n      <th>137</th>\n      <td>.</td>\n      <td>.</td>\n      <td>.</td>\n      <td>.</td>\n      <td>.</td>\n      <td>.</td>\n      <td>.</td>\n      <td>.</td>\n      <td>.</td>\n      <td>.</td>\n      <td>...</td>\n      <td>.</td>\n      <td>.</td>\n      <td>@</td>\n      <td>.</td>\n      <td>.</td>\n      <td>.</td>\n      <td>.</td>\n      <td>.</td>\n      <td>.</td>\n      <td>.</td>\n    </tr>\n    <tr>\n      <th>138</th>\n      <td>.</td>\n      <td>.</td>\n      <td>.</td>\n      <td>.</td>\n      <td>.</td>\n      <td>.</td>\n      <td>8</td>\n      <td>0</td>\n      <td>6</td>\n      <td>.</td>\n      <td>...</td>\n      <td>.</td>\n      <td>.</td>\n      <td>.</td>\n      <td>.</td>\n      <td>.</td>\n      <td>.</td>\n      <td>.</td>\n      <td>.</td>\n      <td>.</td>\n      <td>.</td>\n    </tr>\n    <tr>\n      <th>139</th>\n      <td>.</td>\n      <td>.</td>\n      <td>.</td>\n      <td>.</td>\n      <td>.</td>\n      <td>.</td>\n      <td>.</td>\n      <td>.</td>\n      <td>.</td>\n      <td>.</td>\n      <td>...</td>\n      <td>.</td>\n      <td>.</td>\n      <td>.</td>\n      <td>7</td>\n      <td>2</td>\n      <td>9</td>\n      <td>.</td>\n      <td>.</td>\n      <td>.</td>\n      <td>.</td>\n    </tr>\n  </tbody>\n</table>\n<p>140 rows × 140 columns</p>\n</div>"
     },
     "execution_count": 58,
     "metadata": {},
     "output_type": "execute_result"
    }
   ],
   "source": [
    "engine_schematic"
   ],
   "metadata": {
    "collapsed": false,
    "pycharm": {
     "name": "#%%\n"
    }
   }
  },
  {
   "cell_type": "code",
   "execution_count": 70,
   "outputs": [
    {
     "data": {
      "text/plain": "       0           1           2           3           4           5   \\\n0     679      (0, 0)      (0, 1)      (0, 2)      (0, 3)      (0, 4)   \n1     662      (0, 8)      (0, 9)     (0, 10)     (0, 11)     (0, 12)   \n2      71     (0, 15)     (0, 16)     (0, 17)     (0, 18)    (-1, 15)   \n3     805     (0, 45)     (0, 46)     (0, 47)     (0, 48)     (0, 49)   \n4     862     (0, 58)     (0, 59)     (0, 60)     (0, 61)     (0, 62)   \n...   ...         ...         ...         ...         ...         ...   \n1203  372   (139, 44)   (139, 45)   (139, 46)   (139, 47)   (139, 48)   \n1204  474   (139, 81)   (139, 82)   (139, 83)   (139, 84)   (139, 85)   \n1205  432  (139, 119)  (139, 120)  (139, 121)  (139, 122)  (139, 123)   \n1206  471  (139, 123)  (139, 124)  (139, 125)  (139, 126)  (139, 127)   \n1207  729  (139, 132)  (139, 133)  (139, 134)  (139, 135)  (139, 136)   \n\n              6           7           8           9           10          11  \\\n0        (-1, 0)     (-1, 1)     (-1, 2)     (-1, 3)     (-1, 4)      (1, 0)   \n1        (-1, 8)     (-1, 9)    (-1, 10)    (-1, 11)    (-1, 12)      (1, 8)   \n2       (-1, 16)    (-1, 17)    (-1, 18)     (1, 15)     (1, 16)     (1, 17)   \n3       (-1, 45)    (-1, 46)    (-1, 47)    (-1, 48)    (-1, 49)     (1, 45)   \n4       (-1, 58)    (-1, 59)    (-1, 60)    (-1, 61)    (-1, 62)     (1, 58)   \n...          ...         ...         ...         ...         ...         ...   \n1203   (138, 44)   (138, 45)   (138, 46)   (138, 47)   (138, 48)   (140, 44)   \n1204   (138, 81)   (138, 82)   (138, 83)   (138, 84)   (138, 85)   (140, 81)   \n1205  (138, 119)  (138, 120)  (138, 121)  (138, 122)  (138, 123)  (140, 119)   \n1206  (138, 123)  (138, 124)  (138, 125)  (138, 126)  (138, 127)  (140, 123)   \n1207  (138, 132)  (138, 133)  (138, 134)  (138, 135)  (138, 136)  (140, 132)   \n\n              12          13          14          15  \n0         (1, 1)      (1, 2)      (1, 3)      (1, 4)  \n1         (1, 9)     (1, 10)     (1, 11)     (1, 12)  \n2        (1, 18)        None        None        None  \n3        (1, 46)     (1, 47)     (1, 48)     (1, 49)  \n4        (1, 59)     (1, 60)     (1, 61)     (1, 62)  \n...          ...         ...         ...         ...  \n1203   (140, 45)   (140, 46)   (140, 47)   (140, 48)  \n1204   (140, 82)   (140, 83)   (140, 84)   (140, 85)  \n1205  (140, 120)  (140, 121)  (140, 122)  (140, 123)  \n1206  (140, 124)  (140, 125)  (140, 126)  (140, 127)  \n1207  (140, 133)  (140, 134)  (140, 135)  (140, 136)  \n\n[1208 rows x 16 columns]",
      "text/html": "<div>\n<style scoped>\n    .dataframe tbody tr th:only-of-type {\n        vertical-align: middle;\n    }\n\n    .dataframe tbody tr th {\n        vertical-align: top;\n    }\n\n    .dataframe thead th {\n        text-align: right;\n    }\n</style>\n<table border=\"1\" class=\"dataframe\">\n  <thead>\n    <tr style=\"text-align: right;\">\n      <th></th>\n      <th>0</th>\n      <th>1</th>\n      <th>2</th>\n      <th>3</th>\n      <th>4</th>\n      <th>5</th>\n      <th>6</th>\n      <th>7</th>\n      <th>8</th>\n      <th>9</th>\n      <th>10</th>\n      <th>11</th>\n      <th>12</th>\n      <th>13</th>\n      <th>14</th>\n      <th>15</th>\n    </tr>\n  </thead>\n  <tbody>\n    <tr>\n      <th>0</th>\n      <td>679</td>\n      <td>(0, 0)</td>\n      <td>(0, 1)</td>\n      <td>(0, 2)</td>\n      <td>(0, 3)</td>\n      <td>(0, 4)</td>\n      <td>(-1, 0)</td>\n      <td>(-1, 1)</td>\n      <td>(-1, 2)</td>\n      <td>(-1, 3)</td>\n      <td>(-1, 4)</td>\n      <td>(1, 0)</td>\n      <td>(1, 1)</td>\n      <td>(1, 2)</td>\n      <td>(1, 3)</td>\n      <td>(1, 4)</td>\n    </tr>\n    <tr>\n      <th>1</th>\n      <td>662</td>\n      <td>(0, 8)</td>\n      <td>(0, 9)</td>\n      <td>(0, 10)</td>\n      <td>(0, 11)</td>\n      <td>(0, 12)</td>\n      <td>(-1, 8)</td>\n      <td>(-1, 9)</td>\n      <td>(-1, 10)</td>\n      <td>(-1, 11)</td>\n      <td>(-1, 12)</td>\n      <td>(1, 8)</td>\n      <td>(1, 9)</td>\n      <td>(1, 10)</td>\n      <td>(1, 11)</td>\n      <td>(1, 12)</td>\n    </tr>\n    <tr>\n      <th>2</th>\n      <td>71</td>\n      <td>(0, 15)</td>\n      <td>(0, 16)</td>\n      <td>(0, 17)</td>\n      <td>(0, 18)</td>\n      <td>(-1, 15)</td>\n      <td>(-1, 16)</td>\n      <td>(-1, 17)</td>\n      <td>(-1, 18)</td>\n      <td>(1, 15)</td>\n      <td>(1, 16)</td>\n      <td>(1, 17)</td>\n      <td>(1, 18)</td>\n      <td>None</td>\n      <td>None</td>\n      <td>None</td>\n    </tr>\n    <tr>\n      <th>3</th>\n      <td>805</td>\n      <td>(0, 45)</td>\n      <td>(0, 46)</td>\n      <td>(0, 47)</td>\n      <td>(0, 48)</td>\n      <td>(0, 49)</td>\n      <td>(-1, 45)</td>\n      <td>(-1, 46)</td>\n      <td>(-1, 47)</td>\n      <td>(-1, 48)</td>\n      <td>(-1, 49)</td>\n      <td>(1, 45)</td>\n      <td>(1, 46)</td>\n      <td>(1, 47)</td>\n      <td>(1, 48)</td>\n      <td>(1, 49)</td>\n    </tr>\n    <tr>\n      <th>4</th>\n      <td>862</td>\n      <td>(0, 58)</td>\n      <td>(0, 59)</td>\n      <td>(0, 60)</td>\n      <td>(0, 61)</td>\n      <td>(0, 62)</td>\n      <td>(-1, 58)</td>\n      <td>(-1, 59)</td>\n      <td>(-1, 60)</td>\n      <td>(-1, 61)</td>\n      <td>(-1, 62)</td>\n      <td>(1, 58)</td>\n      <td>(1, 59)</td>\n      <td>(1, 60)</td>\n      <td>(1, 61)</td>\n      <td>(1, 62)</td>\n    </tr>\n    <tr>\n      <th>...</th>\n      <td>...</td>\n      <td>...</td>\n      <td>...</td>\n      <td>...</td>\n      <td>...</td>\n      <td>...</td>\n      <td>...</td>\n      <td>...</td>\n      <td>...</td>\n      <td>...</td>\n      <td>...</td>\n      <td>...</td>\n      <td>...</td>\n      <td>...</td>\n      <td>...</td>\n      <td>...</td>\n    </tr>\n    <tr>\n      <th>1203</th>\n      <td>372</td>\n      <td>(139, 44)</td>\n      <td>(139, 45)</td>\n      <td>(139, 46)</td>\n      <td>(139, 47)</td>\n      <td>(139, 48)</td>\n      <td>(138, 44)</td>\n      <td>(138, 45)</td>\n      <td>(138, 46)</td>\n      <td>(138, 47)</td>\n      <td>(138, 48)</td>\n      <td>(140, 44)</td>\n      <td>(140, 45)</td>\n      <td>(140, 46)</td>\n      <td>(140, 47)</td>\n      <td>(140, 48)</td>\n    </tr>\n    <tr>\n      <th>1204</th>\n      <td>474</td>\n      <td>(139, 81)</td>\n      <td>(139, 82)</td>\n      <td>(139, 83)</td>\n      <td>(139, 84)</td>\n      <td>(139, 85)</td>\n      <td>(138, 81)</td>\n      <td>(138, 82)</td>\n      <td>(138, 83)</td>\n      <td>(138, 84)</td>\n      <td>(138, 85)</td>\n      <td>(140, 81)</td>\n      <td>(140, 82)</td>\n      <td>(140, 83)</td>\n      <td>(140, 84)</td>\n      <td>(140, 85)</td>\n    </tr>\n    <tr>\n      <th>1205</th>\n      <td>432</td>\n      <td>(139, 119)</td>\n      <td>(139, 120)</td>\n      <td>(139, 121)</td>\n      <td>(139, 122)</td>\n      <td>(139, 123)</td>\n      <td>(138, 119)</td>\n      <td>(138, 120)</td>\n      <td>(138, 121)</td>\n      <td>(138, 122)</td>\n      <td>(138, 123)</td>\n      <td>(140, 119)</td>\n      <td>(140, 120)</td>\n      <td>(140, 121)</td>\n      <td>(140, 122)</td>\n      <td>(140, 123)</td>\n    </tr>\n    <tr>\n      <th>1206</th>\n      <td>471</td>\n      <td>(139, 123)</td>\n      <td>(139, 124)</td>\n      <td>(139, 125)</td>\n      <td>(139, 126)</td>\n      <td>(139, 127)</td>\n      <td>(138, 123)</td>\n      <td>(138, 124)</td>\n      <td>(138, 125)</td>\n      <td>(138, 126)</td>\n      <td>(138, 127)</td>\n      <td>(140, 123)</td>\n      <td>(140, 124)</td>\n      <td>(140, 125)</td>\n      <td>(140, 126)</td>\n      <td>(140, 127)</td>\n    </tr>\n    <tr>\n      <th>1207</th>\n      <td>729</td>\n      <td>(139, 132)</td>\n      <td>(139, 133)</td>\n      <td>(139, 134)</td>\n      <td>(139, 135)</td>\n      <td>(139, 136)</td>\n      <td>(138, 132)</td>\n      <td>(138, 133)</td>\n      <td>(138, 134)</td>\n      <td>(138, 135)</td>\n      <td>(138, 136)</td>\n      <td>(140, 132)</td>\n      <td>(140, 133)</td>\n      <td>(140, 134)</td>\n      <td>(140, 135)</td>\n      <td>(140, 136)</td>\n    </tr>\n  </tbody>\n</table>\n<p>1208 rows × 16 columns</p>\n</div>"
     },
     "execution_count": 70,
     "metadata": {},
     "output_type": "execute_result"
    }
   ],
   "source": [
    "df"
   ],
   "metadata": {
    "collapsed": false,
    "pycharm": {
     "name": "#%%\n"
    }
   }
  },
  {
   "cell_type": "code",
   "execution_count": 72,
   "outputs": [
    {
     "name": "stdout",
     "output_type": "stream",
     "text": [
      "0 1      (0, 0)\n",
      "2      (0, 1)\n",
      "3      (0, 2)\n",
      "4      (0, 3)\n",
      "5      (0, 4)\n",
      "6     (-1, 0)\n",
      "7     (-1, 1)\n",
      "8     (-1, 2)\n",
      "9     (-1, 3)\n",
      "10    (-1, 4)\n",
      "11     (1, 0)\n",
      "12     (1, 1)\n",
      "13     (1, 2)\n",
      "14     (1, 3)\n",
      "15     (1, 4)\n",
      "Name: 0, dtype: object\n",
      "1 1       (0, 8)\n",
      "2       (0, 9)\n",
      "3      (0, 10)\n",
      "4      (0, 11)\n",
      "5      (0, 12)\n",
      "6      (-1, 8)\n",
      "7      (-1, 9)\n",
      "8     (-1, 10)\n",
      "9     (-1, 11)\n",
      "10    (-1, 12)\n",
      "11      (1, 8)\n",
      "12      (1, 9)\n",
      "13     (1, 10)\n",
      "14     (1, 11)\n",
      "15     (1, 12)\n",
      "Name: 1, dtype: object\n",
      "2 1      (0, 15)\n",
      "2      (0, 16)\n",
      "3      (0, 17)\n",
      "4      (0, 18)\n",
      "5     (-1, 15)\n",
      "6     (-1, 16)\n",
      "7     (-1, 17)\n",
      "8     (-1, 18)\n",
      "9      (1, 15)\n",
      "10     (1, 16)\n",
      "11     (1, 17)\n",
      "12     (1, 18)\n",
      "13        None\n",
      "14        None\n",
      "15        None\n",
      "Name: 2, dtype: object\n",
      "3 1      (0, 45)\n",
      "2      (0, 46)\n",
      "3      (0, 47)\n",
      "4      (0, 48)\n",
      "5      (0, 49)\n",
      "6     (-1, 45)\n",
      "7     (-1, 46)\n",
      "8     (-1, 47)\n",
      "9     (-1, 48)\n",
      "10    (-1, 49)\n",
      "11     (1, 45)\n",
      "12     (1, 46)\n",
      "13     (1, 47)\n",
      "14     (1, 48)\n",
      "15     (1, 49)\n",
      "Name: 3, dtype: object\n",
      "4 1      (0, 58)\n",
      "2      (0, 59)\n",
      "3      (0, 60)\n",
      "4      (0, 61)\n",
      "5      (0, 62)\n",
      "6     (-1, 58)\n",
      "7     (-1, 59)\n",
      "8     (-1, 60)\n",
      "9     (-1, 61)\n",
      "10    (-1, 62)\n",
      "11     (1, 58)\n",
      "12     (1, 59)\n",
      "13     (1, 60)\n",
      "14     (1, 61)\n",
      "15     (1, 62)\n",
      "Name: 4, dtype: object\n",
      "5 1      (0, 62)\n",
      "2      (0, 63)\n",
      "3      (0, 64)\n",
      "4      (0, 65)\n",
      "5      (0, 66)\n",
      "6     (-1, 62)\n",
      "7     (-1, 63)\n",
      "8     (-1, 64)\n",
      "9     (-1, 65)\n",
      "10    (-1, 66)\n",
      "11     (1, 62)\n",
      "12     (1, 63)\n",
      "13     (1, 64)\n",
      "14     (1, 65)\n",
      "15     (1, 66)\n",
      "Name: 5, dtype: object\n",
      "6 1      (0, 132)\n",
      "2      (0, 133)\n",
      "3      (0, 134)\n",
      "4      (0, 135)\n",
      "5      (0, 136)\n",
      "6     (-1, 132)\n",
      "7     (-1, 133)\n",
      "8     (-1, 134)\n",
      "9     (-1, 135)\n",
      "10    (-1, 136)\n",
      "11     (1, 132)\n",
      "12     (1, 133)\n",
      "13     (1, 134)\n",
      "14     (1, 135)\n",
      "15     (1, 136)\n",
      "Name: 6, dtype: object\n",
      "7 1     (1, 19)\n",
      "2     (1, 20)\n",
      "3     (1, 21)\n",
      "4     (1, 22)\n",
      "5     (1, 23)\n",
      "6     (0, 19)\n",
      "7     (0, 20)\n",
      "8     (0, 21)\n",
      "9     (0, 22)\n",
      "10    (0, 23)\n",
      "11    (2, 19)\n",
      "12    (2, 20)\n",
      "13    (2, 21)\n",
      "14    (2, 22)\n",
      "15    (2, 23)\n",
      "Name: 7, dtype: object\n",
      "8 1     (1, 32)\n",
      "2     (1, 33)\n",
      "3     (1, 34)\n",
      "4     (1, 35)\n",
      "5     (1, 36)\n",
      "6     (0, 32)\n",
      "7     (0, 33)\n",
      "8     (0, 34)\n",
      "9     (0, 35)\n",
      "10    (0, 36)\n",
      "11    (2, 32)\n",
      "12    (2, 33)\n",
      "13    (2, 34)\n",
      "14    (2, 35)\n",
      "15    (2, 36)\n",
      "Name: 8, dtype: object\n",
      "9 1     (1, 37)\n",
      "2     (1, 38)\n",
      "3     (1, 39)\n",
      "4     (1, 40)\n",
      "5     (1, 41)\n",
      "6     (0, 37)\n",
      "7     (0, 38)\n",
      "8     (0, 39)\n",
      "9     (0, 40)\n",
      "10    (0, 41)\n",
      "11    (2, 37)\n",
      "12    (2, 38)\n",
      "13    (2, 39)\n",
      "14    (2, 40)\n",
      "15    (2, 41)\n",
      "Name: 9, dtype: object\n"
     ]
    }
   ],
   "source": [
    "for i, j in df.iloc[:10,1:].iterrows():\n",
    "    print(i, j)"
   ],
   "metadata": {
    "collapsed": false,
    "pycharm": {
     "name": "#%%\n"
    }
   }
  }
 ],
 "metadata": {
  "kernelspec": {
   "display_name": "Python 3",
   "language": "python",
   "name": "python3"
  },
  "language_info": {
   "codemirror_mode": {
    "name": "ipython",
    "version": 2
   },
   "file_extension": ".py",
   "mimetype": "text/x-python",
   "name": "python",
   "nbconvert_exporter": "python",
   "pygments_lexer": "ipython2",
   "version": "2.7.6"
  }
 },
 "nbformat": 4,
 "nbformat_minor": 0
}