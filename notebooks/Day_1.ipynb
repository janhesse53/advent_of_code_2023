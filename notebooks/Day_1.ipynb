{
 "cells": [
  {
   "cell_type": "markdown",
   "source": [
    "# Day 1: Trebuchet?!\n",
    "Something is wrong with global snow production, and you've been selected to take a look. The Elves have even given you a map; on it, they've used stars to mark the top fifty locations that are likely to be having problems.\n",
    "\n",
    "You've been doing this long enough to know that to restore snow operations, you need to check all fifty stars by December 25th.\n",
    "\n",
    "Collect stars by solving puzzles. Two puzzles will be made available on each day in the Advent calendar; the second puzzle is unlocked when you complete the first. Each puzzle grants one star. Good luck!\n",
    "\n",
    "You try to ask why they can't just use a weather machine (\"not powerful enough\") and where they're even sending you (\"the sky\") and why your map looks mostly blank (\"you sure ask a lot of questions\") and hang on did you just say the sky (\"of course, where do you think snow comes from\") when you realize that the Elves are already loading you into a trebuchet (\"please hold still, we need to strap you in\").\n",
    "\n",
    "As they're making the final adjustments, they discover that their calibration document (your puzzle input) has been amended by a very young Elf who was apparently just excited to show off her art skills. Consequently, the Elves are having trouble reading the values on the document.\n",
    "\n",
    "The newly-improved calibration document consists of lines of text; each line originally contained a specific calibration value that the Elves now need to recover. On each line, the calibration value can be found by combining the first digit and the last digit (in that order) to form a single two-digit number.\n",
    "\n",
    "For example:\n",
    "\n",
    "1abc2\n",
    "pqr3stu8vwx\n",
    "a1b2c3d4e5f\n",
    "treb7uchet\n",
    "\n",
    "In this example, the calibration values of these four lines are 12, 38, 15, and 77. Adding these together produces 142.\n",
    "\n",
    "Consider your entire calibration document. What is the sum of all of the calibration values?"
   ],
   "metadata": {
    "collapsed": false,
    "pycharm": {
     "name": "#%% md\n"
    }
   }
  },
  {
   "cell_type": "markdown",
   "source": [
    "### Imports"
   ],
   "metadata": {
    "collapsed": false,
    "pycharm": {
     "name": "#%% md\n"
    }
   }
  },
  {
   "cell_type": "code",
   "execution_count": 2,
   "outputs": [],
   "source": [
    "import re\n",
    "\n",
    "import pandas as pd\n",
    "from aocd import get_data, submit"
   ],
   "metadata": {
    "collapsed": false,
    "pycharm": {
     "name": "#%%\n"
    }
   }
  },
  {
   "cell_type": "markdown",
   "source": [
    "### get data"
   ],
   "metadata": {
    "collapsed": false,
    "pycharm": {
     "name": "#%% md\n"
    }
   }
  },
  {
   "cell_type": "code",
   "execution_count": 3,
   "outputs": [],
   "source": [
    "input_string = get_data(day=1, year=2023)"
   ],
   "metadata": {
    "collapsed": false,
    "pycharm": {
     "name": "#%%\n"
    }
   }
  },
  {
   "cell_type": "markdown",
   "source": [
    "### Puzzle Solution\n",
    "\n",
    "First of all we have to split the input string on linebreaks in order to get the individual strings."
   ],
   "metadata": {
    "collapsed": false,
    "pycharm": {
     "name": "#%% md\n"
    }
   }
  },
  {
   "cell_type": "code",
   "execution_count": 4,
   "outputs": [],
   "source": [
    "list_of_strings = input_string.split('\\n')"
   ],
   "metadata": {
    "collapsed": false,
    "pycharm": {
     "name": "#%%\n"
    }
   }
  },
  {
   "cell_type": "markdown",
   "source": [
    "After that I tried a few things to get the first character in the string, which is a digit.\n",
    "In order to do that, we loop through the characters until we find the first digit and return it."
   ],
   "metadata": {
    "collapsed": false,
    "pycharm": {
     "name": "#%% md\n"
    }
   }
  },
  {
   "cell_type": "code",
   "execution_count": 5,
   "outputs": [],
   "source": [
    "def extract_first_digit(text):\n",
    "    for char in text:\n",
    "        if char.isdigit():\n",
    "            return str(char)\n",
    "\n",
    "    return None"
   ],
   "metadata": {
    "collapsed": false,
    "pycharm": {
     "name": "#%%\n"
    }
   }
  },
  {
   "cell_type": "markdown",
   "source": [
    "Now we also have to find the last character. We can use a simple trick to get it done. The last character is actually the first character from behind. So we just reverse the string with slicing notation and call the `extract_first_digit` function on it."
   ],
   "metadata": {
    "collapsed": false,
    "pycharm": {
     "name": "#%% md\n"
    }
   }
  },
  {
   "cell_type": "code",
   "execution_count": 6,
   "outputs": [],
   "source": [
    "def extract_last_digit(text):\n",
    "    reversed_text = text[::-1]\n",
    "    return extract_first_digit(reversed_text)"
   ],
   "metadata": {
    "collapsed": false,
    "pycharm": {
     "name": "#%%\n"
    }
   }
  },
  {
   "cell_type": "markdown",
   "source": [
    "Here we can test the function on a few sample inputs."
   ],
   "metadata": {
    "collapsed": false,
    "pycharm": {
     "name": "#%% md\n"
    }
   }
  },
  {
   "cell_type": "code",
   "execution_count": 7,
   "outputs": [
    {
     "data": {
      "text/plain": "'threerznlrhtkjp23mtflmbrzq395three'"
     },
     "execution_count": 7,
     "metadata": {},
     "output_type": "execute_result"
    }
   ],
   "source": [
    "sample = list_of_strings[0]\n",
    "sample"
   ],
   "metadata": {
    "collapsed": false,
    "pycharm": {
     "name": "#%%\n"
    }
   }
  },
  {
   "cell_type": "code",
   "execution_count": 8,
   "outputs": [
    {
     "data": {
      "text/plain": "'2'"
     },
     "execution_count": 8,
     "metadata": {},
     "output_type": "execute_result"
    }
   ],
   "source": [
    "extract_first_digit(sample)"
   ],
   "metadata": {
    "collapsed": false,
    "pycharm": {
     "name": "#%%\n"
    }
   }
  },
  {
   "cell_type": "code",
   "execution_count": 9,
   "outputs": [
    {
     "data": {
      "text/plain": "'5'"
     },
     "execution_count": 9,
     "metadata": {},
     "output_type": "execute_result"
    }
   ],
   "source": [
    "extract_last_digit(sample)"
   ],
   "metadata": {
    "collapsed": false,
    "pycharm": {
     "name": "#%%\n"
    }
   }
  },
  {
   "cell_type": "markdown",
   "source": [
    "It is also important that we return a string in order to concatenate them together. If we returned integers, the following code would just sum the digits. But that's not what we want."
   ],
   "metadata": {
    "collapsed": false,
    "pycharm": {
     "name": "#%% md\n"
    }
   }
  },
  {
   "cell_type": "code",
   "execution_count": 10,
   "outputs": [
    {
     "data": {
      "text/plain": "'25'"
     },
     "execution_count": 10,
     "metadata": {},
     "output_type": "execute_result"
    }
   ],
   "source": [
    "extract_first_digit(sample) + extract_last_digit(sample)"
   ],
   "metadata": {
    "collapsed": false,
    "pycharm": {
     "name": "#%%\n"
    }
   }
  },
  {
   "cell_type": "markdown",
   "source": [
    "For convenience, I put the data into a pandas.DataFrame, because we can now efficiently apply the functions on all values. (Also I have a Data Science Background, so pandas is where I feel comfortable)"
   ],
   "metadata": {
    "collapsed": false,
    "pycharm": {
     "name": "#%% md\n"
    }
   }
  },
  {
   "cell_type": "code",
   "execution_count": 11,
   "outputs": [
    {
     "data": {
      "text/plain": "                              strings\n0  threerznlrhtkjp23mtflmbrzq395three\n1                         9sevenvlttm\n2                           3twochzbv\n3        mdxdlh5six5nqfld9bqzxdqxfour\n4                              422268",
      "text/html": "<div>\n<style scoped>\n    .dataframe tbody tr th:only-of-type {\n        vertical-align: middle;\n    }\n\n    .dataframe tbody tr th {\n        vertical-align: top;\n    }\n\n    .dataframe thead th {\n        text-align: right;\n    }\n</style>\n<table border=\"1\" class=\"dataframe\">\n  <thead>\n    <tr style=\"text-align: right;\">\n      <th></th>\n      <th>strings</th>\n    </tr>\n  </thead>\n  <tbody>\n    <tr>\n      <th>0</th>\n      <td>threerznlrhtkjp23mtflmbrzq395three</td>\n    </tr>\n    <tr>\n      <th>1</th>\n      <td>9sevenvlttm</td>\n    </tr>\n    <tr>\n      <th>2</th>\n      <td>3twochzbv</td>\n    </tr>\n    <tr>\n      <th>3</th>\n      <td>mdxdlh5six5nqfld9bqzxdqxfour</td>\n    </tr>\n    <tr>\n      <th>4</th>\n      <td>422268</td>\n    </tr>\n  </tbody>\n</table>\n</div>"
     },
     "execution_count": 11,
     "metadata": {},
     "output_type": "execute_result"
    }
   ],
   "source": [
    "df = pd.DataFrame()\n",
    "df['strings'] = list_of_strings\n",
    "df.head()"
   ],
   "metadata": {
    "collapsed": false,
    "pycharm": {
     "name": "#%%\n"
    }
   }
  },
  {
   "cell_type": "code",
   "execution_count": 12,
   "outputs": [],
   "source": [
    "df['first_digit'] = df['strings'].apply(extract_first_digit)\n",
    "df['last_digit'] = df['strings'].apply(extract_last_digit)"
   ],
   "metadata": {
    "collapsed": false,
    "pycharm": {
     "name": "#%%\n"
    }
   }
  },
  {
   "cell_type": "code",
   "execution_count": 13,
   "outputs": [
    {
     "data": {
      "text/plain": "                              strings first_digit last_digit two_digits\n0  threerznlrhtkjp23mtflmbrzq395three           2          5         25\n1                         9sevenvlttm           9          9         99\n2                           3twochzbv           3          3         33\n3        mdxdlh5six5nqfld9bqzxdqxfour           5          9         59\n4                              422268           4          8         48",
      "text/html": "<div>\n<style scoped>\n    .dataframe tbody tr th:only-of-type {\n        vertical-align: middle;\n    }\n\n    .dataframe tbody tr th {\n        vertical-align: top;\n    }\n\n    .dataframe thead th {\n        text-align: right;\n    }\n</style>\n<table border=\"1\" class=\"dataframe\">\n  <thead>\n    <tr style=\"text-align: right;\">\n      <th></th>\n      <th>strings</th>\n      <th>first_digit</th>\n      <th>last_digit</th>\n      <th>two_digits</th>\n    </tr>\n  </thead>\n  <tbody>\n    <tr>\n      <th>0</th>\n      <td>threerznlrhtkjp23mtflmbrzq395three</td>\n      <td>2</td>\n      <td>5</td>\n      <td>25</td>\n    </tr>\n    <tr>\n      <th>1</th>\n      <td>9sevenvlttm</td>\n      <td>9</td>\n      <td>9</td>\n      <td>99</td>\n    </tr>\n    <tr>\n      <th>2</th>\n      <td>3twochzbv</td>\n      <td>3</td>\n      <td>3</td>\n      <td>33</td>\n    </tr>\n    <tr>\n      <th>3</th>\n      <td>mdxdlh5six5nqfld9bqzxdqxfour</td>\n      <td>5</td>\n      <td>9</td>\n      <td>59</td>\n    </tr>\n    <tr>\n      <th>4</th>\n      <td>422268</td>\n      <td>4</td>\n      <td>8</td>\n      <td>48</td>\n    </tr>\n  </tbody>\n</table>\n</div>"
     },
     "execution_count": 13,
     "metadata": {},
     "output_type": "execute_result"
    }
   ],
   "source": [
    "df['two_digits'] = df['first_digit'] + df['last_digit']\n",
    "df.head()"
   ],
   "metadata": {
    "collapsed": false,
    "pycharm": {
     "name": "#%%\n"
    }
   }
  },
  {
   "cell_type": "code",
   "execution_count": 14,
   "outputs": [
    {
     "name": "stdout",
     "output_type": "stream",
     "text": [
      "<class 'pandas.core.frame.DataFrame'>\n",
      "RangeIndex: 1000 entries, 0 to 999\n",
      "Data columns (total 4 columns):\n",
      " #   Column       Non-Null Count  Dtype \n",
      "---  ------       --------------  ----- \n",
      " 0   strings      1000 non-null   object\n",
      " 1   first_digit  1000 non-null   object\n",
      " 2   last_digit   1000 non-null   object\n",
      " 3   two_digits   1000 non-null   object\n",
      "dtypes: object(4)\n",
      "memory usage: 31.4+ KB\n"
     ]
    }
   ],
   "source": [
    "df.info()"
   ],
   "metadata": {
    "collapsed": false,
    "pycharm": {
     "name": "#%%\n"
    }
   }
  },
  {
   "cell_type": "markdown",
   "source": [
    "We can see that the two_digits are still a string (or object which is most of the time the same). But now we want to calculate the sum of all the two_digit numbers. In order to do that we have to convert the data type to interger."
   ],
   "metadata": {
    "collapsed": false,
    "pycharm": {
     "name": "#%% md\n"
    }
   }
  },
  {
   "cell_type": "code",
   "execution_count": 15,
   "outputs": [],
   "source": [
    "df['two_digit_number'] = df['two_digits'].astype(int)"
   ],
   "metadata": {
    "collapsed": false,
    "pycharm": {
     "name": "#%%\n"
    }
   }
  },
  {
   "cell_type": "code",
   "execution_count": 16,
   "outputs": [
    {
     "name": "stdout",
     "output_type": "stream",
     "text": [
      "<class 'pandas.core.frame.DataFrame'>\n",
      "RangeIndex: 1000 entries, 0 to 999\n",
      "Data columns (total 5 columns):\n",
      " #   Column            Non-Null Count  Dtype \n",
      "---  ------            --------------  ----- \n",
      " 0   strings           1000 non-null   object\n",
      " 1   first_digit       1000 non-null   object\n",
      " 2   last_digit        1000 non-null   object\n",
      " 3   two_digits        1000 non-null   object\n",
      " 4   two_digit_number  1000 non-null   int32 \n",
      "dtypes: int32(1), object(4)\n",
      "memory usage: 35.3+ KB\n"
     ]
    }
   ],
   "source": [
    "df.info()"
   ],
   "metadata": {
    "collapsed": false,
    "pycharm": {
     "name": "#%%\n"
    }
   }
  },
  {
   "cell_type": "markdown",
   "source": [
    "Now we can sum the numbers and get our sum of calibration_values."
   ],
   "metadata": {
    "collapsed": false,
    "pycharm": {
     "name": "#%% md\n"
    }
   }
  },
  {
   "cell_type": "code",
   "execution_count": 17,
   "outputs": [],
   "source": [
    "sum_of_calibration_values = df['two_digit_number'].sum()"
   ],
   "metadata": {
    "collapsed": false,
    "pycharm": {
     "name": "#%%\n"
    }
   }
  },
  {
   "cell_type": "code",
   "execution_count": 18,
   "outputs": [
    {
     "data": {
      "text/plain": "55971"
     },
     "execution_count": 18,
     "metadata": {},
     "output_type": "execute_result"
    }
   ],
   "source": [
    "sum_of_calibration_values"
   ],
   "metadata": {
    "collapsed": false,
    "pycharm": {
     "name": "#%%\n"
    }
   }
  },
  {
   "cell_type": "markdown",
   "source": [
    "## Submission\n",
    "Lastly we can submit our answer and chekc if it's correct."
   ],
   "metadata": {
    "collapsed": false,
    "pycharm": {
     "name": "#%% md\n"
    }
   }
  },
  {
   "cell_type": "code",
   "execution_count": 48,
   "outputs": [
    {
     "name": "stderr",
     "output_type": "stream",
     "text": [
      "answer a: None\n",
      "submitting for part a\n",
      "coerced int64 value 55971 for 2023/01\n"
     ]
    },
    {
     "name": "stdout",
     "output_type": "stream",
     "text": [
      "\u001B[32mThat's the right answer!  You are one gold star closer to restoring snow operations. [Continue to Part Two]\u001B[0m\n"
     ]
    },
    {
     "data": {
      "text/plain": "<urllib3.response.HTTPResponse at 0x1e9d8190ca0>"
     },
     "execution_count": 48,
     "metadata": {},
     "output_type": "execute_result"
    }
   ],
   "source": [
    "submit(sum_of_calibration_values)"
   ],
   "metadata": {
    "collapsed": false,
    "pycharm": {
     "name": "#%%\n"
    }
   }
  },
  {
   "cell_type": "markdown",
   "source": [
    "# --- Part Two ---\n",
    "Your calculation isn't quite right. It looks like some of the digits are actually spelled out with letters: one, two, three, four, five, six, seven, eight, and nine also count as valid \"digits\".\n",
    "\n",
    "Equipped with this new information, you now need to find the real first and last digit on each line. For example:\n",
    "\n",
    "two1nine\n",
    "eightwothree\n",
    "abcone2threexyz\n",
    "xtwone3four\n",
    "4nineeightseven2\n",
    "zoneight234\n",
    "7pqrstsixteen\n",
    "In this example, the calibration values are 29, 83, 13, 24, 42, 14, and 76. Adding these together produces 281.\n",
    "\n",
    "What is the sum of all of the calibration values?"
   ],
   "metadata": {
    "collapsed": false,
    "pycharm": {
     "name": "#%% md\n"
    }
   }
  },
  {
   "cell_type": "markdown",
   "source": [
    "## Puzzle Solution\n",
    "\n",
    "Now we have to account for written digits in the input strings. How can we do that? \\n We could just replace the digit strings with the actual digits. After that our solution for part 1 should work fine. So lets try it."
   ],
   "metadata": {
    "collapsed": false,
    "pycharm": {
     "name": "#%% md\n"
    }
   }
  },
  {
   "cell_type": "code",
   "execution_count": 19,
   "outputs": [],
   "source": [
    "digit_dict = {\n",
    "    'one':'1',\n",
    "    'two':'2',\n",
    "    'three':'3',\n",
    "    'four':'4',\n",
    "    'five':'5',\n",
    "    'six':'6',\n",
    "    'seven':'7',\n",
    "    'eight':'8',\n",
    "    'nine':'9'\n",
    "}"
   ],
   "metadata": {
    "collapsed": false,
    "pycharm": {
     "name": "#%%\n"
    }
   }
  },
  {
   "cell_type": "code",
   "execution_count": 20,
   "outputs": [
    {
     "data": {
      "text/plain": "'threerznlrhtkjp23mtflmbrzq395three'"
     },
     "execution_count": 20,
     "metadata": {},
     "output_type": "execute_result"
    }
   ],
   "source": [
    "sample"
   ],
   "metadata": {
    "collapsed": false,
    "pycharm": {
     "name": "#%%\n"
    }
   }
  },
  {
   "cell_type": "code",
   "execution_count": 21,
   "outputs": [
    {
     "data": {
      "text/plain": "'3rznlrhtkjp23mtflmbrzq3953'"
     },
     "execution_count": 21,
     "metadata": {},
     "output_type": "execute_result"
    }
   ],
   "source": [
    "adjusted_sample = sample\n",
    "\n",
    "for key in digit_dict.keys():\n",
    "    if key in sample:\n",
    "        adjusted_sample = adjusted_sample.replace(key, digit_dict[key])\n",
    "\n",
    "adjusted_sample"
   ],
   "metadata": {
    "collapsed": false,
    "pycharm": {
     "name": "#%%\n"
    }
   }
  },
  {
   "cell_type": "code",
   "execution_count": 22,
   "outputs": [],
   "source": [
    "def replace_written_digits(text, replace_dict):\n",
    "    adjusted_text = text\n",
    "\n",
    "    for key in replace_dict.keys():\n",
    "        if key in text:\n",
    "            adjusted_text = adjusted_text.replace(key, digit_dict[key])\n",
    "\n",
    "    return adjusted_text"
   ],
   "metadata": {
    "collapsed": false,
    "pycharm": {
     "name": "#%%\n"
    }
   }
  },
  {
   "cell_type": "code",
   "execution_count": 23,
   "outputs": [
    {
     "data": {
      "text/plain": "'3rznlrhtkjp23mtflmbrzq3953'"
     },
     "execution_count": 23,
     "metadata": {},
     "output_type": "execute_result"
    }
   ],
   "source": [
    "replace_written_digits(sample, digit_dict)"
   ],
   "metadata": {
    "collapsed": false,
    "pycharm": {
     "name": "#%%\n"
    }
   }
  },
  {
   "cell_type": "code",
   "execution_count": 24,
   "outputs": [],
   "source": [
    "df['adjusted_strings'] = df['strings'].apply(replace_written_digits, replace_dict=digit_dict)"
   ],
   "metadata": {
    "collapsed": false,
    "pycharm": {
     "name": "#%%\n"
    }
   }
  },
  {
   "cell_type": "code",
   "execution_count": 25,
   "outputs": [],
   "source": [
    "df['adjusted_first_digit'] = df['adjusted_strings'].apply(extract_first_digit)\n",
    "df['adjusted_last_digit'] = df['adjusted_strings'].apply(extract_last_digit)\n",
    "df['adjusted_two_digits'] = df['adjusted_first_digit'] + df['adjusted_last_digit']\n",
    "df['adjusted_two_digit_number'] = df['adjusted_two_digits'].astype(int)"
   ],
   "metadata": {
    "collapsed": false,
    "pycharm": {
     "name": "#%%\n"
    }
   }
  },
  {
   "cell_type": "code",
   "execution_count": 26,
   "outputs": [
    {
     "data": {
      "text/plain": "                              strings first_digit last_digit two_digits  \\\n0  threerznlrhtkjp23mtflmbrzq395three           2          5         25   \n1                         9sevenvlttm           9          9         99   \n2                           3twochzbv           3          3         33   \n3        mdxdlh5six5nqfld9bqzxdqxfour           5          9         59   \n4                              422268           4          8         48   \n\n   two_digit_number            adjusted_strings adjusted_first_digit  \\\n0                25  3rznlrhtkjp23mtflmbrzq3953                    3   \n1                99                     97vlttm                    9   \n2                33                     32chzbv                    3   \n3                59     mdxdlh565nqfld9bqzxdqx4                    5   \n4                48                      422268                    4   \n\n  adjusted_last_digit adjusted_two_digits  adjusted_two_digit_number  \n0                   3                  33                         33  \n1                   7                  97                         97  \n2                   2                  32                         32  \n3                   4                  54                         54  \n4                   8                  48                         48  ",
      "text/html": "<div>\n<style scoped>\n    .dataframe tbody tr th:only-of-type {\n        vertical-align: middle;\n    }\n\n    .dataframe tbody tr th {\n        vertical-align: top;\n    }\n\n    .dataframe thead th {\n        text-align: right;\n    }\n</style>\n<table border=\"1\" class=\"dataframe\">\n  <thead>\n    <tr style=\"text-align: right;\">\n      <th></th>\n      <th>strings</th>\n      <th>first_digit</th>\n      <th>last_digit</th>\n      <th>two_digits</th>\n      <th>two_digit_number</th>\n      <th>adjusted_strings</th>\n      <th>adjusted_first_digit</th>\n      <th>adjusted_last_digit</th>\n      <th>adjusted_two_digits</th>\n      <th>adjusted_two_digit_number</th>\n    </tr>\n  </thead>\n  <tbody>\n    <tr>\n      <th>0</th>\n      <td>threerznlrhtkjp23mtflmbrzq395three</td>\n      <td>2</td>\n      <td>5</td>\n      <td>25</td>\n      <td>25</td>\n      <td>3rznlrhtkjp23mtflmbrzq3953</td>\n      <td>3</td>\n      <td>3</td>\n      <td>33</td>\n      <td>33</td>\n    </tr>\n    <tr>\n      <th>1</th>\n      <td>9sevenvlttm</td>\n      <td>9</td>\n      <td>9</td>\n      <td>99</td>\n      <td>99</td>\n      <td>97vlttm</td>\n      <td>9</td>\n      <td>7</td>\n      <td>97</td>\n      <td>97</td>\n    </tr>\n    <tr>\n      <th>2</th>\n      <td>3twochzbv</td>\n      <td>3</td>\n      <td>3</td>\n      <td>33</td>\n      <td>33</td>\n      <td>32chzbv</td>\n      <td>3</td>\n      <td>2</td>\n      <td>32</td>\n      <td>32</td>\n    </tr>\n    <tr>\n      <th>3</th>\n      <td>mdxdlh5six5nqfld9bqzxdqxfour</td>\n      <td>5</td>\n      <td>9</td>\n      <td>59</td>\n      <td>59</td>\n      <td>mdxdlh565nqfld9bqzxdqx4</td>\n      <td>5</td>\n      <td>4</td>\n      <td>54</td>\n      <td>54</td>\n    </tr>\n    <tr>\n      <th>4</th>\n      <td>422268</td>\n      <td>4</td>\n      <td>8</td>\n      <td>48</td>\n      <td>48</td>\n      <td>422268</td>\n      <td>4</td>\n      <td>8</td>\n      <td>48</td>\n      <td>48</td>\n    </tr>\n  </tbody>\n</table>\n</div>"
     },
     "execution_count": 26,
     "metadata": {},
     "output_type": "execute_result"
    }
   ],
   "source": [
    "df.head()"
   ],
   "metadata": {
    "collapsed": false,
    "pycharm": {
     "name": "#%%\n"
    }
   }
  },
  {
   "cell_type": "code",
   "execution_count": 27,
   "outputs": [
    {
     "name": "stdout",
     "output_type": "stream",
     "text": [
      "<class 'pandas.core.frame.DataFrame'>\n",
      "RangeIndex: 1000 entries, 0 to 999\n",
      "Data columns (total 10 columns):\n",
      " #   Column                     Non-Null Count  Dtype \n",
      "---  ------                     --------------  ----- \n",
      " 0   strings                    1000 non-null   object\n",
      " 1   first_digit                1000 non-null   object\n",
      " 2   last_digit                 1000 non-null   object\n",
      " 3   two_digits                 1000 non-null   object\n",
      " 4   two_digit_number           1000 non-null   int32 \n",
      " 5   adjusted_strings           1000 non-null   object\n",
      " 6   adjusted_first_digit       1000 non-null   object\n",
      " 7   adjusted_last_digit        1000 non-null   object\n",
      " 8   adjusted_two_digits        1000 non-null   object\n",
      " 9   adjusted_two_digit_number  1000 non-null   int32 \n",
      "dtypes: int32(2), object(8)\n",
      "memory usage: 70.4+ KB\n"
     ]
    }
   ],
   "source": [
    "df.info()"
   ],
   "metadata": {
    "collapsed": false,
    "pycharm": {
     "name": "#%%\n"
    }
   }
  },
  {
   "cell_type": "code",
   "execution_count": 28,
   "outputs": [],
   "source": [
    "adjusted_sum_of_calibration_values = df['adjusted_two_digit_number'].sum()"
   ],
   "metadata": {
    "collapsed": false,
    "pycharm": {
     "name": "#%%\n"
    }
   }
  },
  {
   "cell_type": "code",
   "execution_count": 29,
   "outputs": [
    {
     "data": {
      "text/plain": "54303"
     },
     "execution_count": 29,
     "metadata": {},
     "output_type": "execute_result"
    }
   ],
   "source": [
    "adjusted_sum_of_calibration_values"
   ],
   "metadata": {
    "collapsed": false,
    "pycharm": {
     "name": "#%%\n"
    }
   }
  },
  {
   "cell_type": "markdown",
   "source": [
    "# Submission Part 2"
   ],
   "metadata": {
    "collapsed": false,
    "pycharm": {
     "name": "#%% md\n"
    }
   }
  },
  {
   "cell_type": "code",
   "execution_count": 86,
   "outputs": [
    {
     "name": "stderr",
     "output_type": "stream",
     "text": [
      "answer a: 55971\n",
      "submitting for part b (part a is already completed)\n",
      "coerced int64 value 54303 for 2023/01\n",
      "wrong answer: That's not the right answer; your answer is too low.  If you're stuck, make sure you're using the full input data; there are also some general tips on the about page, or you can ask for hints on the subreddit.  Please wait one minute before trying again. [Return to Day 1]\n"
     ]
    },
    {
     "name": "stdout",
     "output_type": "stream",
     "text": [
      "\u001B[31mThat's not the right answer; your answer is too low.  If you're stuck, make sure you're using the full input data; there are also some general tips on the about page, or you can ask for hints on the subreddit.  Please wait one minute before trying again. [Return to Day 1]\u001B[0m\n"
     ]
    },
    {
     "data": {
      "text/plain": "<urllib3.response.HTTPResponse at 0x1e9db73f040>"
     },
     "execution_count": 86,
     "metadata": {},
     "output_type": "execute_result"
    }
   ],
   "source": [
    "submit(adjusted_sum_of_calibration_values)"
   ],
   "metadata": {
    "collapsed": false,
    "pycharm": {
     "name": "#%%\n"
    }
   }
  },
  {
   "cell_type": "markdown",
   "source": [
    "The answer is wrong, so what did we miss?\n",
    "There are actually strings that have overlapping written digits. That means that if we replace one of them the other written digits gets \"destroyed\" and we can not find it anymore. Reading the Puzzle description and the examples carefully would have helped. One lesson learned."
   ],
   "metadata": {
    "collapsed": false,
    "pycharm": {
     "name": "#%% md\n"
    }
   }
  },
  {
   "cell_type": "code",
   "execution_count": 30,
   "outputs": [
    {
     "data": {
      "text/plain": "'34rznlrhtkjp23mtflmbrzq3953'"
     },
     "execution_count": 30,
     "metadata": {},
     "output_type": "execute_result"
    }
   ],
   "source": [
    "replace_written_digits('threefourrznlrhtkjp23mtflmbrzq3953', digit_dict)"
   ],
   "metadata": {
    "collapsed": false,
    "pycharm": {
     "name": "#%%\n"
    }
   }
  },
  {
   "cell_type": "code",
   "execution_count": 31,
   "outputs": [
    {
     "data": {
      "text/plain": "'1ightrznlrhtkjp23mtflmbrzq3953'"
     },
     "execution_count": 31,
     "metadata": {},
     "output_type": "execute_result"
    }
   ],
   "source": [
    "replace_written_digits('oneightrznlrhtkjp23mtflmbrzq3953', digit_dict)"
   ],
   "metadata": {
    "collapsed": false,
    "pycharm": {
     "name": "#%%\n"
    }
   }
  },
  {
   "cell_type": "markdown",
   "source": [
    "Let's try to find all the written digits. Then just insert the \"real digit\" before the first and after the last occurrences.\n",
    "This should keep the order intact and all the other code should work just fine."
   ],
   "metadata": {
    "collapsed": false,
    "pycharm": {
     "name": "#%% md\n"
    }
   }
  },
  {
   "cell_type": "markdown",
   "source": [
    "First lets write a function that inserts a string at a given index. We can use slicing to accomplish that."
   ],
   "metadata": {
    "collapsed": false,
    "pycharm": {
     "name": "#%% md\n"
    }
   }
  },
  {
   "cell_type": "code",
   "execution_count": 34,
   "outputs": [],
   "source": [
    "def insert_string(insert_string, index, string):\n",
    "    return string[:index] + insert_string + string[index:]"
   ],
   "metadata": {
    "collapsed": false,
    "pycharm": {
     "name": "#%%\n"
    }
   }
  },
  {
   "cell_type": "markdown",
   "source": [
    "Now we need a way to find the starting index for our written digits."
   ],
   "metadata": {
    "collapsed": false,
    "pycharm": {
     "name": "#%% md\n"
    }
   }
  },
  {
   "cell_type": "code",
   "execution_count": 36,
   "outputs": [],
   "source": [
    "sample = 'oneighthreerznlrhtkjp23mtflmbrzq3953'"
   ],
   "metadata": {
    "collapsed": false,
    "pycharm": {
     "name": "#%%\n"
    }
   }
  },
  {
   "cell_type": "code",
   "execution_count": 33,
   "outputs": [
    {
     "data": {
      "text/plain": "0"
     },
     "execution_count": 33,
     "metadata": {},
     "output_type": "execute_result"
    }
   ],
   "source": [
    "sample.find('one')"
   ],
   "metadata": {
    "collapsed": false,
    "pycharm": {
     "name": "#%%\n"
    }
   }
  },
  {
   "cell_type": "code",
   "execution_count": 35,
   "outputs": [
    {
     "data": {
      "text/plain": "'1oneightrznlrhtkjp23mtflmbrzq3953'"
     },
     "execution_count": 35,
     "metadata": {},
     "output_type": "execute_result"
    }
   ],
   "source": [
    "insert_string('1', sample.find('one'), sample)"
   ],
   "metadata": {
    "collapsed": false,
    "pycharm": {
     "name": "#%%\n"
    }
   }
  },
  {
   "cell_type": "code",
   "execution_count": 37,
   "outputs": [
    {
     "data": {
      "text/plain": "'oneigh3threerznlrhtkjp23mtflmbrzq3953'"
     },
     "execution_count": 37,
     "metadata": {},
     "output_type": "execute_result"
    }
   ],
   "source": [
    "insert_string('3', sample.find('three'), sample)"
   ],
   "metadata": {
    "collapsed": false,
    "pycharm": {
     "name": "#%%\n"
    }
   }
  },
  {
   "cell_type": "markdown",
   "source": [
    "With the regex findall function we can efficiently get all the occurrences of our written digits.\n",
    "Conveniently the resulting list is in order. So we can just grab the first and last element of the list, and we have our first and last written digits.\n",
    "\n",
    "I got the regex pattern from __[stackoverflow](https://stackoverflow.com/questions/33406313/how-to-match-any-string-from-a-list-of-strings-in-regular-expressions-in-python)__."
   ],
   "metadata": {
    "collapsed": false,
    "pycharm": {
     "name": "#%% md\n"
    }
   }
  },
  {
   "cell_type": "code",
   "execution_count": 38,
   "outputs": [],
   "source": [
    "list_of_substrings = ['one', 'two', 'three', 'four', 'five', 'six', 'seven', 'eight', 'nine']\n",
    "pattern = r'(?=(' + '|'.join(list_of_substrings) + r'))'"
   ],
   "metadata": {
    "collapsed": false,
    "pycharm": {
     "name": "#%%\n"
    }
   }
  },
  {
   "cell_type": "code",
   "execution_count": 39,
   "outputs": [
    {
     "data": {
      "text/plain": "['one', 'eight', 'three']"
     },
     "execution_count": 39,
     "metadata": {},
     "output_type": "execute_result"
    }
   ],
   "source": [
    "re.findall(pattern, sample)"
   ],
   "metadata": {
    "collapsed": false,
    "pycharm": {
     "name": "#%%\n"
    }
   }
  },
  {
   "cell_type": "code",
   "execution_count": 46,
   "outputs": [
    {
     "data": {
      "text/plain": "'oneighthreerznlrhtkjp23mtflmbrzq3953'"
     },
     "execution_count": 46,
     "metadata": {},
     "output_type": "execute_result"
    }
   ],
   "source": [
    "sample"
   ],
   "metadata": {
    "collapsed": false,
    "pycharm": {
     "name": "#%%\n"
    }
   }
  },
  {
   "cell_type": "code",
   "execution_count": 43,
   "outputs": [
    {
     "data": {
      "text/plain": "6"
     },
     "execution_count": 43,
     "metadata": {},
     "output_type": "execute_result"
    }
   ],
   "source": [
    "sample.find('three')"
   ],
   "metadata": {
    "collapsed": false,
    "pycharm": {
     "name": "#%%\n"
    }
   }
  },
  {
   "cell_type": "markdown",
   "source": [
    "In order to get the last written digit, we need to use our slicing trick again.\n",
    "Otherwise, we might get the index of the first occurrence of a written digit, if there is the same written digit multiple times.\n",
    "\n",
    "See the example:"
   ],
   "metadata": {
    "collapsed": false,
    "pycharm": {
     "name": "#%% md\n"
    }
   }
  },
  {
   "cell_type": "code",
   "execution_count": 150,
   "outputs": [],
   "source": [
    "example = 'one45three67three89'"
   ],
   "metadata": {
    "collapsed": false,
    "pycharm": {
     "name": "#%%\n"
    }
   }
  },
  {
   "cell_type": "code",
   "execution_count": 151,
   "outputs": [
    {
     "data": {
      "text/plain": "['one', 'three', 'three']"
     },
     "execution_count": 151,
     "metadata": {},
     "output_type": "execute_result"
    }
   ],
   "source": [
    "re.findall(pattern, example)"
   ],
   "metadata": {
    "collapsed": false,
    "pycharm": {
     "name": "#%%\n"
    }
   }
  },
  {
   "cell_type": "code",
   "execution_count": 152,
   "outputs": [
    {
     "data": {
      "text/plain": "5"
     },
     "execution_count": 152,
     "metadata": {},
     "output_type": "execute_result"
    }
   ],
   "source": [
    "example.find('three')"
   ],
   "metadata": {
    "collapsed": false,
    "pycharm": {
     "name": "#%%\n"
    }
   }
  },
  {
   "cell_type": "markdown",
   "source": [
    "The index is 5 instead of 16 as desired."
   ],
   "metadata": {
    "collapsed": false,
    "pycharm": {
     "name": "#%% md\n"
    }
   }
  },
  {
   "cell_type": "markdown",
   "source": [
    "We have to reverse the string as well as the string for the written digit, in order to find the index."
   ],
   "metadata": {
    "collapsed": false,
    "pycharm": {
     "name": "#%% md\n"
    }
   }
  },
  {
   "cell_type": "code",
   "execution_count": 155,
   "outputs": [
    {
     "data": {
      "text/plain": "'98eerht76eerht54eno'"
     },
     "execution_count": 155,
     "metadata": {},
     "output_type": "execute_result"
    }
   ],
   "source": [
    "example[::-1]"
   ],
   "metadata": {
    "collapsed": false,
    "pycharm": {
     "name": "#%%\n"
    }
   }
  },
  {
   "cell_type": "code",
   "execution_count": 156,
   "outputs": [
    {
     "data": {
      "text/plain": "'eerht'"
     },
     "execution_count": 156,
     "metadata": {},
     "output_type": "execute_result"
    }
   ],
   "source": [
    "'three'[::-1]"
   ],
   "metadata": {
    "collapsed": false,
    "pycharm": {
     "name": "#%%\n"
    }
   }
  },
  {
   "cell_type": "code",
   "execution_count": 157,
   "outputs": [
    {
     "data": {
      "text/plain": "2"
     },
     "execution_count": 157,
     "metadata": {},
     "output_type": "execute_result"
    }
   ],
   "source": [
    "example[::-1].find('three'[::-1])"
   ],
   "metadata": {
    "collapsed": false,
    "pycharm": {
     "name": "#%%\n"
    }
   }
  },
  {
   "cell_type": "markdown",
   "source": [
    "We also have to count from the back of the string (not the reversed one) to get the right index.\n",
    "With the slicing notation we can just add a minus in front of the index."
   ],
   "metadata": {
    "collapsed": false,
    "pycharm": {
     "name": "#%% md\n"
    }
   }
  },
  {
   "cell_type": "code",
   "execution_count": 158,
   "outputs": [
    {
     "data": {
      "text/plain": "'one45three67three'"
     },
     "execution_count": 158,
     "metadata": {},
     "output_type": "execute_result"
    }
   ],
   "source": [
    "example[:-2]"
   ],
   "metadata": {
    "collapsed": false,
    "pycharm": {
     "name": "#%%\n"
    }
   }
  },
  {
   "cell_type": "code",
   "execution_count": 159,
   "outputs": [
    {
     "data": {
      "text/plain": "'one45three67three389'"
     },
     "execution_count": 159,
     "metadata": {},
     "output_type": "execute_result"
    }
   ],
   "source": [
    "insert_string('3', -2, example)"
   ],
   "metadata": {
    "collapsed": false,
    "pycharm": {
     "name": "#%%\n"
    }
   }
  },
  {
   "cell_type": "markdown",
   "source": [
    "Now we put all that together into a function. After a little testing, I noticed some weird behaviour, in cases where the last written digit is the very last character in the string.\n",
    "This is because then we get the index 0 and our nifty trick with counting from behind (negative indexing) results in -0, which is also 0. Therefore, I included an if statement to account for those cases.\n",
    "Then everything works as expected."
   ],
   "metadata": {
    "collapsed": false,
    "pycharm": {
     "name": "#%% md\n"
    }
   }
  },
  {
   "cell_type": "code",
   "execution_count": 160,
   "outputs": [],
   "source": [
    "def replace_first_last_written_digits(text):\n",
    "    written_digits = re.findall(pattern, text)\n",
    "    if len(written_digits) > 0:\n",
    "        first = written_digits[0]\n",
    "        last = written_digits[-1]\n",
    "        first_idx = text.find(first)\n",
    "        text_inserted = insert_string(digit_dict[first], first_idx, text)\n",
    "        last_idx = text_inserted[::-1].find(last[::-1])\n",
    "        # when the last_idx is 0 we would insert the string at the beginning because -0 == 0, in order to avoid that we check for that case\n",
    "        if last_idx == 0:\n",
    "            return text_inserted + digit_dict[last]\n",
    "        else:\n",
    "            return insert_string(digit_dict[last], -last_idx, text_inserted)\n",
    "    else:\n",
    "        return text"
   ],
   "metadata": {
    "collapsed": false,
    "pycharm": {
     "name": "#%%\n"
    }
   }
  },
  {
   "cell_type": "code",
   "execution_count": 161,
   "outputs": [
    {
     "data": {
      "text/plain": "'1oneighthree3rznlrhtkjp23mtflmbrzq3953'"
     },
     "execution_count": 161,
     "metadata": {},
     "output_type": "execute_result"
    }
   ],
   "source": [
    "replace_first_last_written_digits(sample)"
   ],
   "metadata": {
    "collapsed": false,
    "pycharm": {
     "name": "#%%\n"
    }
   }
  },
  {
   "cell_type": "code",
   "execution_count": 162,
   "outputs": [
    {
     "data": {
      "text/plain": "'97seventhree3'"
     },
     "execution_count": 162,
     "metadata": {},
     "output_type": "execute_result"
    }
   ],
   "source": [
    "replace_first_last_written_digits('9seventhree')"
   ],
   "metadata": {
    "collapsed": false,
    "pycharm": {
     "name": "#%%\n"
    }
   }
  },
  {
   "cell_type": "code",
   "execution_count": 163,
   "outputs": [
    {
     "data": {
      "text/plain": "'6hvfbrqccktfqhn1one7btwo2'"
     },
     "execution_count": 163,
     "metadata": {},
     "output_type": "execute_result"
    }
   ],
   "source": [
    "replace_first_last_written_digits('6hvfbrqccktfqhnone7btwo')"
   ],
   "metadata": {
    "collapsed": false,
    "pycharm": {
     "name": "#%%\n"
    }
   }
  },
  {
   "cell_type": "code",
   "execution_count": 164,
   "outputs": [
    {
     "data": {
      "text/plain": "['one']"
     },
     "execution_count": 164,
     "metadata": {},
     "output_type": "execute_result"
    }
   ],
   "source": [
    "re.findall(pattern, 'one')"
   ],
   "metadata": {
    "collapsed": false,
    "pycharm": {
     "name": "#%%\n"
    }
   }
  },
  {
   "cell_type": "code",
   "execution_count": 165,
   "outputs": [
    {
     "data": {
      "text/plain": "0"
     },
     "execution_count": 165,
     "metadata": {},
     "output_type": "execute_result"
    }
   ],
   "source": [
    "'one'.find('one')"
   ],
   "metadata": {
    "collapsed": false,
    "pycharm": {
     "name": "#%%\n"
    }
   }
  },
  {
   "cell_type": "code",
   "execution_count": 166,
   "outputs": [
    {
     "data": {
      "text/plain": "'eno1'"
     },
     "execution_count": 166,
     "metadata": {},
     "output_type": "execute_result"
    }
   ],
   "source": [
    "'1one'[::-1]"
   ],
   "metadata": {
    "collapsed": false,
    "pycharm": {
     "name": "#%%\n"
    }
   }
  },
  {
   "cell_type": "code",
   "execution_count": 167,
   "outputs": [
    {
     "data": {
      "text/plain": "'eno'"
     },
     "execution_count": 167,
     "metadata": {},
     "output_type": "execute_result"
    }
   ],
   "source": [
    "'one'[::-1]"
   ],
   "metadata": {
    "collapsed": false,
    "pycharm": {
     "name": "#%%\n"
    }
   }
  },
  {
   "cell_type": "code",
   "execution_count": 168,
   "outputs": [
    {
     "data": {
      "text/plain": "0"
     },
     "execution_count": 168,
     "metadata": {},
     "output_type": "execute_result"
    }
   ],
   "source": [
    "'1one'[::-1].find('one'[::-1])"
   ],
   "metadata": {
    "collapsed": false,
    "pycharm": {
     "name": "#%%\n"
    }
   }
  },
  {
   "cell_type": "code",
   "execution_count": 169,
   "outputs": [
    {
     "data": {
      "text/plain": "'12345'"
     },
     "execution_count": 169,
     "metadata": {},
     "output_type": "execute_result"
    }
   ],
   "source": [
    "replace_first_last_written_digits('12345')"
   ],
   "metadata": {
    "collapsed": false,
    "pycharm": {
     "name": "#%%\n"
    }
   }
  },
  {
   "cell_type": "code",
   "execution_count": 170,
   "outputs": [
    {
     "data": {
      "text/plain": "''"
     },
     "execution_count": 170,
     "metadata": {},
     "output_type": "execute_result"
    }
   ],
   "source": [
    "replace_first_last_written_digits('')"
   ],
   "metadata": {
    "collapsed": false,
    "pycharm": {
     "name": "#%%\n"
    }
   }
  },
  {
   "cell_type": "code",
   "execution_count": 171,
   "outputs": [],
   "source": [
    "df['adjusted_strings'] = df['strings'].apply(replace_first_last_written_digits)"
   ],
   "metadata": {
    "collapsed": false,
    "pycharm": {
     "name": "#%%\n"
    }
   }
  },
  {
   "cell_type": "code",
   "execution_count": 172,
   "outputs": [],
   "source": [
    "df['adjusted_first_digit'] = df['adjusted_strings'].apply(extract_first_digit)\n",
    "df['adjusted_last_digit'] = df['adjusted_strings'].apply(extract_last_digit)\n",
    "df['adjusted_two_digits'] = df['adjusted_first_digit'] + df['adjusted_last_digit']\n",
    "df['adjusted_two_digit_number'] = df['adjusted_two_digits'].astype(int)"
   ],
   "metadata": {
    "collapsed": false,
    "pycharm": {
     "name": "#%%\n"
    }
   }
  },
  {
   "cell_type": "code",
   "execution_count": 173,
   "outputs": [
    {
     "data": {
      "text/plain": "                                    strings  \\\n777                                 six4two   \n33                    threezdbbhkrnrq4seven   \n979  cpcnkvdbrqrxtfnmzbqgffivesix91fivehgrv   \n776                  4fivefiveglchzczdstone   \n65                           eight4mscvrpr7   \n824                           six5eightjtnq   \n274                              6pjxcpkpdh   \n814    fourtwolkxrtzdsninenine5pznzrqbcmnph   \n213                       kqfxgjpnttwo84one   \n643     sevensevenmjrzvbkkknkfbq2seven5vms5   \n\n                             adjusted_strings adjusted_first_digit  \\\n777                                 6six4two2                    6   \n33                    3threezdbbhkrnrq4seven7                    3   \n979  cpcnkvdbrqrxtfnmzbqgf5fivesix91five5hgrv                    5   \n776                  45fivefiveglchzczdstone1                    4   \n65                           8eight84mscvrpr7                    8   \n824                           6six5eight8jtnq                    6   \n274                                6pjxcpkpdh                    6   \n814    4fourtwolkxrtzdsninenine95pznzrqbcmnph                    4   \n213                       kqfxgjpnt2two84one1                    2   \n643     7sevensevenmjrzvbkkknkfbq2seven75vms5                    7   \n\n    adjusted_last_digit adjusted_two_digits  adjusted_two_digit_number  \n777                   2                  62                         62  \n33                    7                  37                         37  \n979                   5                  55                         55  \n776                   1                  41                         41  \n65                    7                  87                         87  \n824                   8                  68                         68  \n274                   6                  66                         66  \n814                   5                  45                         45  \n213                   1                  21                         21  \n643                   5                  75                         75  ",
      "text/html": "<div>\n<style scoped>\n    .dataframe tbody tr th:only-of-type {\n        vertical-align: middle;\n    }\n\n    .dataframe tbody tr th {\n        vertical-align: top;\n    }\n\n    .dataframe thead th {\n        text-align: right;\n    }\n</style>\n<table border=\"1\" class=\"dataframe\">\n  <thead>\n    <tr style=\"text-align: right;\">\n      <th></th>\n      <th>strings</th>\n      <th>adjusted_strings</th>\n      <th>adjusted_first_digit</th>\n      <th>adjusted_last_digit</th>\n      <th>adjusted_two_digits</th>\n      <th>adjusted_two_digit_number</th>\n    </tr>\n  </thead>\n  <tbody>\n    <tr>\n      <th>777</th>\n      <td>six4two</td>\n      <td>6six4two2</td>\n      <td>6</td>\n      <td>2</td>\n      <td>62</td>\n      <td>62</td>\n    </tr>\n    <tr>\n      <th>33</th>\n      <td>threezdbbhkrnrq4seven</td>\n      <td>3threezdbbhkrnrq4seven7</td>\n      <td>3</td>\n      <td>7</td>\n      <td>37</td>\n      <td>37</td>\n    </tr>\n    <tr>\n      <th>979</th>\n      <td>cpcnkvdbrqrxtfnmzbqgffivesix91fivehgrv</td>\n      <td>cpcnkvdbrqrxtfnmzbqgf5fivesix91five5hgrv</td>\n      <td>5</td>\n      <td>5</td>\n      <td>55</td>\n      <td>55</td>\n    </tr>\n    <tr>\n      <th>776</th>\n      <td>4fivefiveglchzczdstone</td>\n      <td>45fivefiveglchzczdstone1</td>\n      <td>4</td>\n      <td>1</td>\n      <td>41</td>\n      <td>41</td>\n    </tr>\n    <tr>\n      <th>65</th>\n      <td>eight4mscvrpr7</td>\n      <td>8eight84mscvrpr7</td>\n      <td>8</td>\n      <td>7</td>\n      <td>87</td>\n      <td>87</td>\n    </tr>\n    <tr>\n      <th>824</th>\n      <td>six5eightjtnq</td>\n      <td>6six5eight8jtnq</td>\n      <td>6</td>\n      <td>8</td>\n      <td>68</td>\n      <td>68</td>\n    </tr>\n    <tr>\n      <th>274</th>\n      <td>6pjxcpkpdh</td>\n      <td>6pjxcpkpdh</td>\n      <td>6</td>\n      <td>6</td>\n      <td>66</td>\n      <td>66</td>\n    </tr>\n    <tr>\n      <th>814</th>\n      <td>fourtwolkxrtzdsninenine5pznzrqbcmnph</td>\n      <td>4fourtwolkxrtzdsninenine95pznzrqbcmnph</td>\n      <td>4</td>\n      <td>5</td>\n      <td>45</td>\n      <td>45</td>\n    </tr>\n    <tr>\n      <th>213</th>\n      <td>kqfxgjpnttwo84one</td>\n      <td>kqfxgjpnt2two84one1</td>\n      <td>2</td>\n      <td>1</td>\n      <td>21</td>\n      <td>21</td>\n    </tr>\n    <tr>\n      <th>643</th>\n      <td>sevensevenmjrzvbkkknkfbq2seven5vms5</td>\n      <td>7sevensevenmjrzvbkkknkfbq2seven75vms5</td>\n      <td>7</td>\n      <td>5</td>\n      <td>75</td>\n      <td>75</td>\n    </tr>\n  </tbody>\n</table>\n</div>"
     },
     "execution_count": 173,
     "metadata": {},
     "output_type": "execute_result"
    }
   ],
   "source": [
    "df[['strings', 'adjusted_strings', 'adjusted_first_digit',\n",
    "    'adjusted_last_digit', 'adjusted_two_digits',\n",
    "    'adjusted_two_digit_number']].sample(10)"
   ],
   "metadata": {
    "collapsed": false,
    "pycharm": {
     "name": "#%%\n"
    }
   }
  },
  {
   "cell_type": "code",
   "execution_count": 174,
   "outputs": [
    {
     "data": {
      "text/plain": "54719"
     },
     "execution_count": 174,
     "metadata": {},
     "output_type": "execute_result"
    }
   ],
   "source": [
    "adjusted_sum_of_calibration_values = df['adjusted_two_digit_number'].sum()\n",
    "adjusted_sum_of_calibration_values"
   ],
   "metadata": {
    "collapsed": false,
    "pycharm": {
     "name": "#%%\n"
    }
   }
  },
  {
   "cell_type": "markdown",
   "source": [
    "# Submission Part 2 Second Try"
   ],
   "metadata": {
    "collapsed": false,
    "pycharm": {
     "name": "#%% md\n"
    }
   }
  },
  {
   "cell_type": "code",
   "execution_count": 146,
   "outputs": [
    {
     "name": "stderr",
     "output_type": "stream",
     "text": [
      "answer a: 55971\n",
      "submitting for part b (part a is already completed)\n",
      "coerced int64 value 54719 for 2023/01\n"
     ]
    },
    {
     "name": "stdout",
     "output_type": "stream",
     "text": [
      "\u001B[32mThat's the right answer!  You are one gold star closer to restoring snow operations.You have completed Day 1! You can [Shareon\n",
      "  Twitter\n",
      "Mastodon] this victory or [Return to Your Advent Calendar].\u001B[0m\n"
     ]
    },
    {
     "data": {
      "text/plain": "<urllib3.response.HTTPResponse at 0x203c4da1ed0>"
     },
     "execution_count": 146,
     "metadata": {},
     "output_type": "execute_result"
    }
   ],
   "source": [
    "submit(adjusted_sum_of_calibration_values)"
   ],
   "metadata": {
    "collapsed": false,
    "pycharm": {
     "name": "#%%\n"
    }
   }
  },
  {
   "cell_type": "markdown",
   "source": [
    "## Great! It worked!\n",
    "\n",
    "I hope you enjoyed this blog, but either way let me know.\n",
    "I am also super interested in your solutions and in any feedback/advice/question you might have for me.\n",
    "Have fun learning!"
   ],
   "metadata": {
    "collapsed": false,
    "pycharm": {
     "name": "#%% md\n"
    }
   }
  }
 ],
 "metadata": {
  "kernelspec": {
   "display_name": "Python 3",
   "language": "python",
   "name": "python3"
  },
  "language_info": {
   "codemirror_mode": {
    "name": "ipython",
    "version": 2
   },
   "file_extension": ".py",
   "mimetype": "text/x-python",
   "name": "python",
   "nbconvert_exporter": "python",
   "pygments_lexer": "ipython2",
   "version": "2.7.6"
  }
 },
 "nbformat": 4,
 "nbformat_minor": 0
}